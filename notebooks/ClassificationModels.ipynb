{
 "cells": [
  {
   "cell_type": "code",
   "execution_count": 50,
   "metadata": {
    "collapsed": false
   },
   "outputs": [],
   "source": [
    "import pandas as pd\n",
    "import numpy as np\n",
    "import category_encoders as ce\n",
    "from sklearn.preprocessing import LabelEncoder, OneHotEncoder\n",
    "from sklearn import metrics\n",
    "from sklearn.cross_validation import cross_val_score\n",
    "from sklearn.dummy import DummyClassifier\n",
    "from sklearn.linear_model import LogisticRegression\n",
    "from sklearn.tree import DecisionTreeClassifier\n",
    "from sklearn.ensemble import RandomForestClassifier"
   ]
  },
  {
   "cell_type": "code",
   "execution_count": 2,
   "metadata": {
    "collapsed": false
   },
   "outputs": [],
   "source": [
    "data = pd.read_csv(\"../data/shot_logs.csv\")"
   ]
  },
  {
   "cell_type": "code",
   "execution_count": 3,
   "metadata": {
    "collapsed": false
   },
   "outputs": [
    {
     "name": "stdout",
     "output_type": "stream",
     "text": [
      "Analyzing the data before doing cool data science is must\n",
      "# of rows:: 128069, # of columns:: 21\n",
      "Type of each column: \n",
      "GAME_ID                         int64\n",
      "MATCHUP                        object\n",
      "LOCATION                       object\n",
      "W                              object\n",
      "FINAL_MARGIN                    int64\n",
      "SHOT_NUMBER                     int64\n",
      "PERIOD                          int64\n",
      "GAME_CLOCK                     object\n",
      "SHOT_CLOCK                    float64\n",
      "DRIBBLES                        int64\n",
      "TOUCH_TIME                    float64\n",
      "SHOT_DIST                     float64\n",
      "PTS_TYPE                        int64\n",
      "SHOT_RESULT                    object\n",
      "CLOSEST_DEFENDER               object\n",
      "CLOSEST_DEFENDER_PLAYER_ID      int64\n",
      "CLOSE_DEF_DIST                float64\n",
      "FGM                             int64\n",
      "PTS                             int64\n",
      "player_name                    object\n",
      "player_id                       int64\n",
      "dtype: object\n"
     ]
    }
   ],
   "source": [
    "print \"Analyzing the data before doing cool data science is must\"\n",
    "print \"# of rows:: {0}, # of columns:: {1}\".format(data.shape[0], data.shape[1])\n",
    "print \"Type of each column: \\n\", data.dtypes\n"
   ]
  },
  {
   "cell_type": "code",
   "execution_count": 4,
   "metadata": {
    "collapsed": false
   },
   "outputs": [
    {
     "name": "stdout",
     "output_type": "stream",
     "text": [
      "# of distinct values in the feature columns\n",
      "GAME_ID --> 904\n",
      "MATCHUP --> 1808\n",
      "LOCATION --> 2\n",
      "W --> 2\n",
      "FINAL_MARGIN --> 88\n",
      "SHOT_NUMBER --> 38\n",
      "PERIOD --> 7\n",
      "GAME_CLOCK --> 719\n",
      "SHOT_CLOCK --> 242\n",
      "DRIBBLES --> 33\n",
      "TOUCH_TIME --> 313\n",
      "SHOT_DIST --> 448\n",
      "PTS_TYPE --> 2\n",
      "SHOT_RESULT --> 2\n",
      "CLOSEST_DEFENDER --> 473\n",
      "CLOSEST_DEFENDER_PLAYER_ID --> 474\n",
      "CLOSE_DEF_DIST --> 299\n",
      "FGM --> 2\n",
      "PTS --> 3\n",
      "player_name --> 281\n",
      "player_id --> 281\n"
     ]
    }
   ],
   "source": [
    "print \"# of distinct values in the feature columns\"\n",
    "for column_name in data.columns:\n",
    "    print column_name, \"--> {0}\".format(len(data[column_name].unique()))\n"
   ]
  },
  {
   "cell_type": "code",
   "execution_count": 5,
   "metadata": {
    "collapsed": false
   },
   "outputs": [
    {
     "name": "stdout",
     "output_type": "stream",
     "text": [
      "Stats on Data\n"
     ]
    },
    {
     "name": "stderr",
     "output_type": "stream",
     "text": [
      "/Users/Umang/anaconda/lib/python2.7/site-packages/numpy/lib/function_base.py:3834: RuntimeWarning: Invalid value encountered in percentile\n",
      "  RuntimeWarning)\n"
     ]
    },
    {
     "data": {
      "text/html": [
       "<div>\n",
       "<table border=\"1\" class=\"dataframe\">\n",
       "  <thead>\n",
       "    <tr style=\"text-align: right;\">\n",
       "      <th></th>\n",
       "      <th>GAME_ID</th>\n",
       "      <th>FINAL_MARGIN</th>\n",
       "      <th>SHOT_NUMBER</th>\n",
       "      <th>PERIOD</th>\n",
       "      <th>SHOT_CLOCK</th>\n",
       "      <th>DRIBBLES</th>\n",
       "      <th>TOUCH_TIME</th>\n",
       "      <th>SHOT_DIST</th>\n",
       "      <th>PTS_TYPE</th>\n",
       "      <th>CLOSEST_DEFENDER_PLAYER_ID</th>\n",
       "      <th>CLOSE_DEF_DIST</th>\n",
       "      <th>FGM</th>\n",
       "      <th>PTS</th>\n",
       "      <th>player_id</th>\n",
       "    </tr>\n",
       "  </thead>\n",
       "  <tbody>\n",
       "    <tr>\n",
       "      <th>count</th>\n",
       "      <td>1.280690e+05</td>\n",
       "      <td>128069.000000</td>\n",
       "      <td>128069.000000</td>\n",
       "      <td>128069.000000</td>\n",
       "      <td>122502.000000</td>\n",
       "      <td>128069.000000</td>\n",
       "      <td>128069.000000</td>\n",
       "      <td>128069.000000</td>\n",
       "      <td>128069.000000</td>\n",
       "      <td>128069.000000</td>\n",
       "      <td>128069.000000</td>\n",
       "      <td>128069.000000</td>\n",
       "      <td>128069.000000</td>\n",
       "      <td>128069.000000</td>\n",
       "    </tr>\n",
       "    <tr>\n",
       "      <th>mean</th>\n",
       "      <td>2.140045e+07</td>\n",
       "      <td>0.208723</td>\n",
       "      <td>6.506899</td>\n",
       "      <td>2.469427</td>\n",
       "      <td>12.453344</td>\n",
       "      <td>2.023355</td>\n",
       "      <td>2.765901</td>\n",
       "      <td>13.571504</td>\n",
       "      <td>2.264670</td>\n",
       "      <td>159038.487284</td>\n",
       "      <td>4.123015</td>\n",
       "      <td>0.452139</td>\n",
       "      <td>0.997314</td>\n",
       "      <td>157238.251247</td>\n",
       "    </tr>\n",
       "    <tr>\n",
       "      <th>std</th>\n",
       "      <td>2.578773e+02</td>\n",
       "      <td>13.233267</td>\n",
       "      <td>4.713260</td>\n",
       "      <td>1.139919</td>\n",
       "      <td>5.763265</td>\n",
       "      <td>3.477760</td>\n",
       "      <td>3.043682</td>\n",
       "      <td>8.888964</td>\n",
       "      <td>0.441159</td>\n",
       "      <td>78791.172947</td>\n",
       "      <td>2.756446</td>\n",
       "      <td>0.497706</td>\n",
       "      <td>1.130978</td>\n",
       "      <td>79362.389336</td>\n",
       "    </tr>\n",
       "    <tr>\n",
       "      <th>min</th>\n",
       "      <td>2.140000e+07</td>\n",
       "      <td>-53.000000</td>\n",
       "      <td>1.000000</td>\n",
       "      <td>1.000000</td>\n",
       "      <td>0.000000</td>\n",
       "      <td>0.000000</td>\n",
       "      <td>-163.600000</td>\n",
       "      <td>0.000000</td>\n",
       "      <td>2.000000</td>\n",
       "      <td>708.000000</td>\n",
       "      <td>0.000000</td>\n",
       "      <td>0.000000</td>\n",
       "      <td>0.000000</td>\n",
       "      <td>708.000000</td>\n",
       "    </tr>\n",
       "    <tr>\n",
       "      <th>25%</th>\n",
       "      <td>2.140023e+07</td>\n",
       "      <td>-8.000000</td>\n",
       "      <td>3.000000</td>\n",
       "      <td>1.000000</td>\n",
       "      <td>NaN</td>\n",
       "      <td>0.000000</td>\n",
       "      <td>0.900000</td>\n",
       "      <td>4.700000</td>\n",
       "      <td>2.000000</td>\n",
       "      <td>101249.000000</td>\n",
       "      <td>2.300000</td>\n",
       "      <td>0.000000</td>\n",
       "      <td>0.000000</td>\n",
       "      <td>101162.000000</td>\n",
       "    </tr>\n",
       "    <tr>\n",
       "      <th>50%</th>\n",
       "      <td>2.140045e+07</td>\n",
       "      <td>1.000000</td>\n",
       "      <td>5.000000</td>\n",
       "      <td>2.000000</td>\n",
       "      <td>NaN</td>\n",
       "      <td>1.000000</td>\n",
       "      <td>1.600000</td>\n",
       "      <td>13.700000</td>\n",
       "      <td>2.000000</td>\n",
       "      <td>201949.000000</td>\n",
       "      <td>3.700000</td>\n",
       "      <td>0.000000</td>\n",
       "      <td>0.000000</td>\n",
       "      <td>201939.000000</td>\n",
       "    </tr>\n",
       "    <tr>\n",
       "      <th>75%</th>\n",
       "      <td>2.140067e+07</td>\n",
       "      <td>9.000000</td>\n",
       "      <td>9.000000</td>\n",
       "      <td>3.000000</td>\n",
       "      <td>NaN</td>\n",
       "      <td>2.000000</td>\n",
       "      <td>3.700000</td>\n",
       "      <td>22.500000</td>\n",
       "      <td>3.000000</td>\n",
       "      <td>203079.000000</td>\n",
       "      <td>5.300000</td>\n",
       "      <td>1.000000</td>\n",
       "      <td>2.000000</td>\n",
       "      <td>202704.000000</td>\n",
       "    </tr>\n",
       "    <tr>\n",
       "      <th>max</th>\n",
       "      <td>2.140091e+07</td>\n",
       "      <td>53.000000</td>\n",
       "      <td>38.000000</td>\n",
       "      <td>7.000000</td>\n",
       "      <td>24.000000</td>\n",
       "      <td>32.000000</td>\n",
       "      <td>24.900000</td>\n",
       "      <td>47.200000</td>\n",
       "      <td>3.000000</td>\n",
       "      <td>530027.000000</td>\n",
       "      <td>53.200000</td>\n",
       "      <td>1.000000</td>\n",
       "      <td>3.000000</td>\n",
       "      <td>204060.000000</td>\n",
       "    </tr>\n",
       "  </tbody>\n",
       "</table>\n",
       "</div>"
      ],
      "text/plain": [
       "            GAME_ID   FINAL_MARGIN    SHOT_NUMBER         PERIOD  \\\n",
       "count  1.280690e+05  128069.000000  128069.000000  128069.000000   \n",
       "mean   2.140045e+07       0.208723       6.506899       2.469427   \n",
       "std    2.578773e+02      13.233267       4.713260       1.139919   \n",
       "min    2.140000e+07     -53.000000       1.000000       1.000000   \n",
       "25%    2.140023e+07      -8.000000       3.000000       1.000000   \n",
       "50%    2.140045e+07       1.000000       5.000000       2.000000   \n",
       "75%    2.140067e+07       9.000000       9.000000       3.000000   \n",
       "max    2.140091e+07      53.000000      38.000000       7.000000   \n",
       "\n",
       "          SHOT_CLOCK       DRIBBLES     TOUCH_TIME      SHOT_DIST  \\\n",
       "count  122502.000000  128069.000000  128069.000000  128069.000000   \n",
       "mean       12.453344       2.023355       2.765901      13.571504   \n",
       "std         5.763265       3.477760       3.043682       8.888964   \n",
       "min         0.000000       0.000000    -163.600000       0.000000   \n",
       "25%              NaN       0.000000       0.900000       4.700000   \n",
       "50%              NaN       1.000000       1.600000      13.700000   \n",
       "75%              NaN       2.000000       3.700000      22.500000   \n",
       "max        24.000000      32.000000      24.900000      47.200000   \n",
       "\n",
       "            PTS_TYPE  CLOSEST_DEFENDER_PLAYER_ID  CLOSE_DEF_DIST  \\\n",
       "count  128069.000000               128069.000000   128069.000000   \n",
       "mean        2.264670               159038.487284        4.123015   \n",
       "std         0.441159                78791.172947        2.756446   \n",
       "min         2.000000                  708.000000        0.000000   \n",
       "25%         2.000000               101249.000000        2.300000   \n",
       "50%         2.000000               201949.000000        3.700000   \n",
       "75%         3.000000               203079.000000        5.300000   \n",
       "max         3.000000               530027.000000       53.200000   \n",
       "\n",
       "                 FGM            PTS      player_id  \n",
       "count  128069.000000  128069.000000  128069.000000  \n",
       "mean        0.452139       0.997314  157238.251247  \n",
       "std         0.497706       1.130978   79362.389336  \n",
       "min         0.000000       0.000000     708.000000  \n",
       "25%         0.000000       0.000000  101162.000000  \n",
       "50%         0.000000       0.000000  201939.000000  \n",
       "75%         1.000000       2.000000  202704.000000  \n",
       "max         1.000000       3.000000  204060.000000  "
      ]
     },
     "execution_count": 5,
     "metadata": {},
     "output_type": "execute_result"
    }
   ],
   "source": [
    "print \"Stats on Data\"\n",
    "data.describe()\n",
    "\n"
   ]
  },
  {
   "cell_type": "code",
   "execution_count": 6,
   "metadata": {
    "collapsed": false
   },
   "outputs": [
    {
     "data": {
      "text/plain": [
       "GAME_ID                       False\n",
       "MATCHUP                       False\n",
       "LOCATION                      False\n",
       "W                             False\n",
       "FINAL_MARGIN                  False\n",
       "SHOT_NUMBER                   False\n",
       "PERIOD                        False\n",
       "GAME_CLOCK                    False\n",
       "SHOT_CLOCK                     True\n",
       "DRIBBLES                      False\n",
       "TOUCH_TIME                    False\n",
       "SHOT_DIST                     False\n",
       "PTS_TYPE                      False\n",
       "SHOT_RESULT                   False\n",
       "CLOSEST_DEFENDER              False\n",
       "CLOSEST_DEFENDER_PLAYER_ID    False\n",
       "CLOSE_DEF_DIST                False\n",
       "FGM                           False\n",
       "PTS                           False\n",
       "player_name                   False\n",
       "player_id                     False\n",
       "dtype: bool"
      ]
     },
     "execution_count": 6,
     "metadata": {},
     "output_type": "execute_result"
    }
   ],
   "source": [
    "data.isnull().any()"
   ]
  },
  {
   "cell_type": "code",
   "execution_count": 7,
   "metadata": {
    "collapsed": false
   },
   "outputs": [
    {
     "data": {
      "text/html": [
       "<div>\n",
       "<table border=\"1\" class=\"dataframe\">\n",
       "  <thead>\n",
       "    <tr style=\"text-align: right;\">\n",
       "      <th></th>\n",
       "      <th>GAME_ID</th>\n",
       "      <th>MATCHUP</th>\n",
       "      <th>LOCATION</th>\n",
       "      <th>W</th>\n",
       "      <th>FINAL_MARGIN</th>\n",
       "      <th>SHOT_NUMBER</th>\n",
       "      <th>PERIOD</th>\n",
       "      <th>GAME_CLOCK</th>\n",
       "      <th>SHOT_CLOCK</th>\n",
       "      <th>DRIBBLES</th>\n",
       "      <th>...</th>\n",
       "      <th>SHOT_DIST</th>\n",
       "      <th>PTS_TYPE</th>\n",
       "      <th>SHOT_RESULT</th>\n",
       "      <th>CLOSEST_DEFENDER</th>\n",
       "      <th>CLOSEST_DEFENDER_PLAYER_ID</th>\n",
       "      <th>CLOSE_DEF_DIST</th>\n",
       "      <th>FGM</th>\n",
       "      <th>PTS</th>\n",
       "      <th>player_name</th>\n",
       "      <th>player_id</th>\n",
       "    </tr>\n",
       "  </thead>\n",
       "  <tbody>\n",
       "    <tr>\n",
       "      <th>0</th>\n",
       "      <td>21400899</td>\n",
       "      <td>MAR 04, 2015 - CHA @ BKN</td>\n",
       "      <td>A</td>\n",
       "      <td>W</td>\n",
       "      <td>24</td>\n",
       "      <td>1</td>\n",
       "      <td>1</td>\n",
       "      <td>1:09</td>\n",
       "      <td>10.8</td>\n",
       "      <td>2</td>\n",
       "      <td>...</td>\n",
       "      <td>7.7</td>\n",
       "      <td>2</td>\n",
       "      <td>made</td>\n",
       "      <td>Anderson, Alan</td>\n",
       "      <td>101187</td>\n",
       "      <td>1.3</td>\n",
       "      <td>1</td>\n",
       "      <td>2</td>\n",
       "      <td>brian roberts</td>\n",
       "      <td>203148</td>\n",
       "    </tr>\n",
       "    <tr>\n",
       "      <th>1</th>\n",
       "      <td>21400899</td>\n",
       "      <td>MAR 04, 2015 - CHA @ BKN</td>\n",
       "      <td>A</td>\n",
       "      <td>W</td>\n",
       "      <td>24</td>\n",
       "      <td>2</td>\n",
       "      <td>1</td>\n",
       "      <td>0:14</td>\n",
       "      <td>3.4</td>\n",
       "      <td>0</td>\n",
       "      <td>...</td>\n",
       "      <td>28.2</td>\n",
       "      <td>3</td>\n",
       "      <td>missed</td>\n",
       "      <td>Bogdanovic, Bojan</td>\n",
       "      <td>202711</td>\n",
       "      <td>6.1</td>\n",
       "      <td>0</td>\n",
       "      <td>0</td>\n",
       "      <td>brian roberts</td>\n",
       "      <td>203148</td>\n",
       "    </tr>\n",
       "    <tr>\n",
       "      <th>2</th>\n",
       "      <td>21400899</td>\n",
       "      <td>MAR 04, 2015 - CHA @ BKN</td>\n",
       "      <td>A</td>\n",
       "      <td>W</td>\n",
       "      <td>24</td>\n",
       "      <td>3</td>\n",
       "      <td>1</td>\n",
       "      <td>0:00</td>\n",
       "      <td>NaN</td>\n",
       "      <td>3</td>\n",
       "      <td>...</td>\n",
       "      <td>10.1</td>\n",
       "      <td>2</td>\n",
       "      <td>missed</td>\n",
       "      <td>Bogdanovic, Bojan</td>\n",
       "      <td>202711</td>\n",
       "      <td>0.9</td>\n",
       "      <td>0</td>\n",
       "      <td>0</td>\n",
       "      <td>brian roberts</td>\n",
       "      <td>203148</td>\n",
       "    </tr>\n",
       "    <tr>\n",
       "      <th>3</th>\n",
       "      <td>21400899</td>\n",
       "      <td>MAR 04, 2015 - CHA @ BKN</td>\n",
       "      <td>A</td>\n",
       "      <td>W</td>\n",
       "      <td>24</td>\n",
       "      <td>4</td>\n",
       "      <td>2</td>\n",
       "      <td>11:47</td>\n",
       "      <td>10.3</td>\n",
       "      <td>2</td>\n",
       "      <td>...</td>\n",
       "      <td>17.2</td>\n",
       "      <td>2</td>\n",
       "      <td>missed</td>\n",
       "      <td>Brown, Markel</td>\n",
       "      <td>203900</td>\n",
       "      <td>3.4</td>\n",
       "      <td>0</td>\n",
       "      <td>0</td>\n",
       "      <td>brian roberts</td>\n",
       "      <td>203148</td>\n",
       "    </tr>\n",
       "    <tr>\n",
       "      <th>4</th>\n",
       "      <td>21400899</td>\n",
       "      <td>MAR 04, 2015 - CHA @ BKN</td>\n",
       "      <td>A</td>\n",
       "      <td>W</td>\n",
       "      <td>24</td>\n",
       "      <td>5</td>\n",
       "      <td>2</td>\n",
       "      <td>10:34</td>\n",
       "      <td>10.9</td>\n",
       "      <td>2</td>\n",
       "      <td>...</td>\n",
       "      <td>3.7</td>\n",
       "      <td>2</td>\n",
       "      <td>missed</td>\n",
       "      <td>Young, Thaddeus</td>\n",
       "      <td>201152</td>\n",
       "      <td>1.1</td>\n",
       "      <td>0</td>\n",
       "      <td>0</td>\n",
       "      <td>brian roberts</td>\n",
       "      <td>203148</td>\n",
       "    </tr>\n",
       "  </tbody>\n",
       "</table>\n",
       "<p>5 rows × 21 columns</p>\n",
       "</div>"
      ],
      "text/plain": [
       "    GAME_ID                   MATCHUP LOCATION  W  FINAL_MARGIN  SHOT_NUMBER  \\\n",
       "0  21400899  MAR 04, 2015 - CHA @ BKN        A  W            24            1   \n",
       "1  21400899  MAR 04, 2015 - CHA @ BKN        A  W            24            2   \n",
       "2  21400899  MAR 04, 2015 - CHA @ BKN        A  W            24            3   \n",
       "3  21400899  MAR 04, 2015 - CHA @ BKN        A  W            24            4   \n",
       "4  21400899  MAR 04, 2015 - CHA @ BKN        A  W            24            5   \n",
       "\n",
       "   PERIOD GAME_CLOCK  SHOT_CLOCK  DRIBBLES    ...     SHOT_DIST  PTS_TYPE  \\\n",
       "0       1       1:09        10.8         2    ...           7.7         2   \n",
       "1       1       0:14         3.4         0    ...          28.2         3   \n",
       "2       1       0:00         NaN         3    ...          10.1         2   \n",
       "3       2      11:47        10.3         2    ...          17.2         2   \n",
       "4       2      10:34        10.9         2    ...           3.7         2   \n",
       "\n",
       "   SHOT_RESULT   CLOSEST_DEFENDER CLOSEST_DEFENDER_PLAYER_ID  CLOSE_DEF_DIST  \\\n",
       "0         made     Anderson, Alan                     101187             1.3   \n",
       "1       missed  Bogdanovic, Bojan                     202711             6.1   \n",
       "2       missed  Bogdanovic, Bojan                     202711             0.9   \n",
       "3       missed      Brown, Markel                     203900             3.4   \n",
       "4       missed    Young, Thaddeus                     201152             1.1   \n",
       "\n",
       "   FGM  PTS    player_name player_id  \n",
       "0    1    2  brian roberts    203148  \n",
       "1    0    0  brian roberts    203148  \n",
       "2    0    0  brian roberts    203148  \n",
       "3    0    0  brian roberts    203148  \n",
       "4    0    0  brian roberts    203148  \n",
       "\n",
       "[5 rows x 21 columns]"
      ]
     },
     "execution_count": 7,
     "metadata": {},
     "output_type": "execute_result"
    }
   ],
   "source": [
    "data.head()"
   ]
  },
  {
   "cell_type": "code",
   "execution_count": 8,
   "metadata": {
    "collapsed": false
   },
   "outputs": [
    {
     "data": {
      "text/plain": [
       "Index([u'GAME_ID', u'MATCHUP', u'LOCATION', u'W', u'FINAL_MARGIN',\n",
       "       u'SHOT_NUMBER', u'PERIOD', u'GAME_CLOCK', u'SHOT_CLOCK', u'DRIBBLES',\n",
       "       u'TOUCH_TIME', u'SHOT_DIST', u'PTS_TYPE', u'SHOT_RESULT',\n",
       "       u'CLOSEST_DEFENDER', u'CLOSEST_DEFENDER_PLAYER_ID', u'CLOSE_DEF_DIST',\n",
       "       u'FGM', u'PTS', u'player_name', u'player_id'],\n",
       "      dtype='object')"
      ]
     },
     "execution_count": 8,
     "metadata": {},
     "output_type": "execute_result"
    }
   ],
   "source": [
    "data.columns\n"
   ]
  },
  {
   "cell_type": "code",
   "execution_count": 9,
   "metadata": {
    "collapsed": false
   },
   "outputs": [
    {
     "name": "stdout",
     "output_type": "stream",
     "text": [
      "['GAME_ID',\n",
      " 'MATCHUP',\n",
      " 'LOCATION',\n",
      " 'W',\n",
      " 'FINAL_MARGIN',\n",
      " 'SHOT_NUMBER',\n",
      " 'PERIOD',\n",
      " 'GAME_CLOCK',\n",
      " 'SHOT_CLOCK',\n",
      " 'DRIBBLES',\n",
      " 'TOUCH_TIME',\n",
      " 'SHOT_DIST',\n",
      " 'PTS_TYPE',\n",
      " 'SHOT_RESULT',\n",
      " 'CLOSEST_DEFENDER',\n",
      " 'CLOSEST_DEFENDER_PLAYER_ID',\n",
      " 'CLOSE_DEF_DIST',\n",
      " 'FGM',\n",
      " 'PTS',\n",
      " 'player_name',\n",
      " 'player_id']\n"
     ]
    }
   ],
   "source": [
    "import pprint\n",
    "pprint.pprint(list(data.columns))"
   ]
  },
  {
   "cell_type": "code",
   "execution_count": 10,
   "metadata": {
    "collapsed": false
   },
   "outputs": [
    {
     "name": "stdout",
     "output_type": "stream",
     "text": [
      "Original Data (128069, 21)\n"
     ]
    }
   ],
   "source": [
    "print \"Original Data\", data.shape  \n"
   ]
  },
  {
   "cell_type": "code",
   "execution_count": 11,
   "metadata": {
    "collapsed": false
   },
   "outputs": [
    {
     "name": "stdout",
     "output_type": "stream",
     "text": [
      "After Removing Nulls (122502, 21)\n"
     ]
    }
   ],
   "source": [
    "cleaned_data = data.dropna()\n",
    "print \"After Removing Nulls\", cleaned_data.shape"
   ]
  },
  {
   "cell_type": "code",
   "execution_count": 12,
   "metadata": {
    "collapsed": false
   },
   "outputs": [],
   "source": [
    "dataForAnalysis = cleaned_data.copy()"
   ]
  },
  {
   "cell_type": "code",
   "execution_count": 13,
   "metadata": {
    "collapsed": false
   },
   "outputs": [],
   "source": [
    "del dataForAnalysis[\"GAME_ID\"]  \n",
    "del dataForAnalysis['MATCHUP']\n",
    "del dataForAnalysis['GAME_CLOCK']\n",
    "del dataForAnalysis[\"FINAL_MARGIN\"]\n",
    "del dataForAnalysis[\"PTS\"]\n",
    "del dataForAnalysis[\"player_name\"]\n",
    "del dataForAnalysis[\"CLOSEST_DEFENDER\"]\n",
    "del dataForAnalysis[\"W\"] ### Match Result\n",
    "del dataForAnalysis['SHOT_RESULT']  ### Duplicate information , captured in FGM."
   ]
  },
  {
   "cell_type": "code",
   "execution_count": 14,
   "metadata": {
    "collapsed": false
   },
   "outputs": [
    {
     "name": "stdout",
     "output_type": "stream",
     "text": [
      "Categorizing the time when the shot was made into 3 brackets \n",
      "         [1-9) on the clock -- 0         [9-17) on the clock -- 1         [17-24] on the clock -- 2\n"
     ]
    }
   ],
   "source": [
    "print \"Categorizing the time when the shot was made into 3 brackets \\n \\\n",
    "        [1-9) on the clock -- 0 \\\n",
    "        [9-17) on the clock -- 1 \\\n",
    "        [17-24] on the clock -- 2\""
   ]
  },
  {
   "cell_type": "code",
   "execution_count": 15,
   "metadata": {
    "collapsed": true
   },
   "outputs": [],
   "source": [
    "def cat_shot_clock(time):\n",
    "    if time > 0 and time < 9:\n",
    "        return 0\n",
    "    elif time >=9 and time < 17:\n",
    "        return 1\n",
    "    else:\n",
    "        return 2"
   ]
  },
  {
   "cell_type": "code",
   "execution_count": 16,
   "metadata": {
    "collapsed": false
   },
   "outputs": [],
   "source": [
    "dataForAnalysis[\"SHOT_CLOCK_CAT\"] = dataForAnalysis.SHOT_CLOCK.map(cat_shot_clock)\n",
    "del dataForAnalysis[\"SHOT_CLOCK\"]"
   ]
  },
  {
   "cell_type": "code",
   "execution_count": 17,
   "metadata": {
    "collapsed": false
   },
   "outputs": [
    {
     "name": "stdout",
     "output_type": "stream",
     "text": [
      "Bining the shot distance into 7 categories using numpy linspace\n"
     ]
    }
   ],
   "source": [
    "print \"Bining the shot distance into 7 categories using numpy linspace\""
   ]
  },
  {
   "cell_type": "code",
   "execution_count": 18,
   "metadata": {
    "collapsed": false
   },
   "outputs": [],
   "source": [
    "#shot_dist_bins = np.linspace(dataForAnalysis.SHOT_DIST.min(), dataForAnalysis.SHOT_DIST.max(), 7)\n",
    "#dataForAnalysis[\"SHOT_DIST_CAT\"] = np.digitize(dataForAnalysis.SHOT_DIST, shot_dist_bins)\n",
    "dataForAnalysis[\"SHOT_DIST_CAT\"] = pd.cut(dataForAnalysis.SHOT_DIST, 7, labels = range(1,8))\n",
    "del dataForAnalysis[\"SHOT_DIST\"]"
   ]
  },
  {
   "cell_type": "code",
   "execution_count": 19,
   "metadata": {
    "collapsed": false,
    "scrolled": true
   },
   "outputs": [
    {
     "name": "stdout",
     "output_type": "stream",
     "text": [
      "Bining the dribbles into 4 categories using numpy linspace\n"
     ]
    }
   ],
   "source": [
    "print \"Bining the dribbles into 4 categories using numpy linspace\"\n"
   ]
  },
  {
   "cell_type": "code",
   "execution_count": 20,
   "metadata": {
    "collapsed": true
   },
   "outputs": [],
   "source": [
    "#dribble_bins = np.linspace(dataForAnalysis.DRIBBLES.min(), dataForAnalysis.DRIBBLES.max(), 4)\n",
    "#dataForAnalysis[\"DRIBBLES_CAT\"] = np.digitize(dataForAnalysis.DRIBBLES, dribble_bins)\n",
    "dataForAnalysis[\"DRIBBLES_CAT\"] = pd.cut(dataForAnalysis.DRIBBLES, 4, labels = range(1,5))\n",
    "del dataForAnalysis[\"DRIBBLES\"]"
   ]
  },
  {
   "cell_type": "code",
   "execution_count": 21,
   "metadata": {
    "collapsed": false
   },
   "outputs": [
    {
     "name": "stdout",
     "output_type": "stream",
     "text": [
      "Categorizing the touch time when the shot was made into 3 brackets \n",
      "         <=2 on the clock -- 0         [3-7) on the clock -- 1         >=7 on the clock -- 2\n"
     ]
    }
   ],
   "source": [
    "print \"Categorizing the touch time when the shot was made into 3 brackets \\n \\\n",
    "        <=2 on the clock -- 0 \\\n",
    "        [3-7) on the clock -- 1 \\\n",
    "        >=7 on the clock -- 2\""
   ]
  },
  {
   "cell_type": "code",
   "execution_count": 22,
   "metadata": {
    "collapsed": false
   },
   "outputs": [],
   "source": [
    "def touch_time_cat(touch_time):\n",
    "    if touch_time <=2:\n",
    "        return 0\n",
    "    elif touch_time > 2 and touch_time <=6:\n",
    "        return 1\n",
    "    else:\n",
    "        return 2  "
   ]
  },
  {
   "cell_type": "code",
   "execution_count": 23,
   "metadata": {
    "collapsed": true
   },
   "outputs": [],
   "source": [
    "dataForAnalysis[\"TOUCH_TIME_CAT\"] = dataForAnalysis.TOUCH_TIME.map(touch_time_cat)\n",
    "del dataForAnalysis[\"TOUCH_TIME\"]"
   ]
  },
  {
   "cell_type": "code",
   "execution_count": 24,
   "metadata": {
    "collapsed": false
   },
   "outputs": [],
   "source": [
    "#close_def_dist_bins = np.linspace(dataForAnalysis.CLOSE_DEF_DIST.min(), dataForAnalysis.CLOSE_DEF_DIST.max(), 11)\n",
    "#dataForAnalysis[\"CLOSE_DEF_DIST_CAT\"] = np.digitize(dataForAnalysis.CLOSE_DEF_DIST, close_def_dist_bins)\n",
    "dataForAnalysis[\"CLOSE_DEF_DIST_CAT\"] = pd.cut(dataForAnalysis.CLOSE_DEF_DIST, 11, labels = range(1,12))\n",
    "del dataForAnalysis[\"CLOSE_DEF_DIST\"]"
   ]
  },
  {
   "cell_type": "code",
   "execution_count": 25,
   "metadata": {
    "collapsed": false
   },
   "outputs": [],
   "source": [
    "#dataForAnalysis = pd.get_dummies(dataForAnalysis,columns = [\"LOCATION\"], drop_first=True)\n",
    "#dataForAnalysis['LOCATION_H'] = dataForAnalysis['LOCATION_H'].astype(int)\n",
    "le = LabelEncoder()\n",
    "dataForAnalysis[\"IS_HOME\"] = dataForAnalysis[[\"LOCATION\"]].apply(le.fit_transform)\n",
    "del dataForAnalysis[\"LOCATION\"]"
   ]
  },
  {
   "cell_type": "code",
   "execution_count": 26,
   "metadata": {
    "collapsed": false
   },
   "outputs": [],
   "source": [
    "binaryEncoder = ce.BinaryEncoder(cols = [\"SHOT_NUMBER\", \"player_id\", \"CLOSEST_DEFENDER_PLAYER_ID\"])\n",
    "dataForAnalysis = binaryEncoder.fit_transform(dataForAnalysis)"
   ]
  },
  {
   "cell_type": "code",
   "execution_count": 27,
   "metadata": {
    "collapsed": false
   },
   "outputs": [
    {
     "data": {
      "text/plain": [
       "SHOT_NUMBER_0                      int64\n",
       "SHOT_NUMBER_1                      int64\n",
       "SHOT_NUMBER_2                      int64\n",
       "SHOT_NUMBER_3                      int64\n",
       "SHOT_NUMBER_4                      int64\n",
       "SHOT_NUMBER_5                      int64\n",
       "player_id_0                        int64\n",
       "player_id_1                        int64\n",
       "player_id_2                        int64\n",
       "player_id_3                        int64\n",
       "player_id_4                        int64\n",
       "player_id_5                        int64\n",
       "player_id_6                        int64\n",
       "player_id_7                        int64\n",
       "player_id_8                        int64\n",
       "CLOSEST_DEFENDER_PLAYER_ID_0       int64\n",
       "CLOSEST_DEFENDER_PLAYER_ID_1       int64\n",
       "CLOSEST_DEFENDER_PLAYER_ID_2       int64\n",
       "CLOSEST_DEFENDER_PLAYER_ID_3       int64\n",
       "CLOSEST_DEFENDER_PLAYER_ID_4       int64\n",
       "CLOSEST_DEFENDER_PLAYER_ID_5       int64\n",
       "CLOSEST_DEFENDER_PLAYER_ID_6       int64\n",
       "CLOSEST_DEFENDER_PLAYER_ID_7       int64\n",
       "CLOSEST_DEFENDER_PLAYER_ID_8       int64\n",
       "PERIOD                             int64\n",
       "PTS_TYPE                           int64\n",
       "FGM                                int64\n",
       "SHOT_CLOCK_CAT                     int64\n",
       "SHOT_DIST_CAT                   category\n",
       "DRIBBLES_CAT                    category\n",
       "TOUCH_TIME_CAT                     int64\n",
       "CLOSE_DEF_DIST_CAT              category\n",
       "IS_HOME                            int64\n",
       "dtype: object"
      ]
     },
     "execution_count": 27,
     "metadata": {},
     "output_type": "execute_result"
    }
   ],
   "source": [
    "dataForAnalysis.columns\n",
    "dataForAnalysis.dtypes"
   ]
  },
  {
   "cell_type": "code",
   "execution_count": 28,
   "metadata": {
    "collapsed": false
   },
   "outputs": [],
   "source": [
    "features_X = dataForAnalysis.ix[:, dataForAnalysis.columns != 'FGM']\n",
    "predict_Y = dataForAnalysis.FGM"
   ]
  },
  {
   "cell_type": "code",
   "execution_count": 29,
   "metadata": {
    "collapsed": false
   },
   "outputs": [
    {
     "data": {
      "text/html": [
       "<div>\n",
       "<table border=\"1\" class=\"dataframe\">\n",
       "  <thead>\n",
       "    <tr style=\"text-align: right;\">\n",
       "      <th></th>\n",
       "      <th>SHOT_NUMBER_0</th>\n",
       "      <th>SHOT_NUMBER_1</th>\n",
       "      <th>SHOT_NUMBER_2</th>\n",
       "      <th>SHOT_NUMBER_3</th>\n",
       "      <th>SHOT_NUMBER_4</th>\n",
       "      <th>SHOT_NUMBER_5</th>\n",
       "      <th>player_id_0</th>\n",
       "      <th>player_id_1</th>\n",
       "      <th>player_id_2</th>\n",
       "      <th>player_id_3</th>\n",
       "      <th>...</th>\n",
       "      <th>CLOSEST_DEFENDER_PLAYER_ID_7</th>\n",
       "      <th>CLOSEST_DEFENDER_PLAYER_ID_8</th>\n",
       "      <th>PERIOD</th>\n",
       "      <th>PTS_TYPE</th>\n",
       "      <th>SHOT_CLOCK_CAT</th>\n",
       "      <th>SHOT_DIST_CAT</th>\n",
       "      <th>DRIBBLES_CAT</th>\n",
       "      <th>TOUCH_TIME_CAT</th>\n",
       "      <th>CLOSE_DEF_DIST_CAT</th>\n",
       "      <th>IS_HOME</th>\n",
       "    </tr>\n",
       "  </thead>\n",
       "  <tbody>\n",
       "    <tr>\n",
       "      <th>0</th>\n",
       "      <td>0</td>\n",
       "      <td>1</td>\n",
       "      <td>0</td>\n",
       "      <td>0</td>\n",
       "      <td>0</td>\n",
       "      <td>0</td>\n",
       "      <td>1</td>\n",
       "      <td>0</td>\n",
       "      <td>0</td>\n",
       "      <td>0</td>\n",
       "      <td>...</td>\n",
       "      <td>1</td>\n",
       "      <td>0</td>\n",
       "      <td>1</td>\n",
       "      <td>2</td>\n",
       "      <td>1</td>\n",
       "      <td>2</td>\n",
       "      <td>1</td>\n",
       "      <td>0</td>\n",
       "      <td>1</td>\n",
       "      <td>0</td>\n",
       "    </tr>\n",
       "    <tr>\n",
       "      <th>1</th>\n",
       "      <td>0</td>\n",
       "      <td>1</td>\n",
       "      <td>1</td>\n",
       "      <td>0</td>\n",
       "      <td>0</td>\n",
       "      <td>0</td>\n",
       "      <td>1</td>\n",
       "      <td>0</td>\n",
       "      <td>0</td>\n",
       "      <td>0</td>\n",
       "      <td>...</td>\n",
       "      <td>0</td>\n",
       "      <td>0</td>\n",
       "      <td>1</td>\n",
       "      <td>3</td>\n",
       "      <td>0</td>\n",
       "      <td>5</td>\n",
       "      <td>1</td>\n",
       "      <td>0</td>\n",
       "      <td>2</td>\n",
       "      <td>0</td>\n",
       "    </tr>\n",
       "    <tr>\n",
       "      <th>3</th>\n",
       "      <td>0</td>\n",
       "      <td>0</td>\n",
       "      <td>0</td>\n",
       "      <td>0</td>\n",
       "      <td>1</td>\n",
       "      <td>1</td>\n",
       "      <td>1</td>\n",
       "      <td>0</td>\n",
       "      <td>0</td>\n",
       "      <td>0</td>\n",
       "      <td>...</td>\n",
       "      <td>0</td>\n",
       "      <td>1</td>\n",
       "      <td>2</td>\n",
       "      <td>2</td>\n",
       "      <td>1</td>\n",
       "      <td>3</td>\n",
       "      <td>1</td>\n",
       "      <td>0</td>\n",
       "      <td>1</td>\n",
       "      <td>0</td>\n",
       "    </tr>\n",
       "    <tr>\n",
       "      <th>4</th>\n",
       "      <td>0</td>\n",
       "      <td>1</td>\n",
       "      <td>1</td>\n",
       "      <td>0</td>\n",
       "      <td>1</td>\n",
       "      <td>1</td>\n",
       "      <td>1</td>\n",
       "      <td>0</td>\n",
       "      <td>0</td>\n",
       "      <td>0</td>\n",
       "      <td>...</td>\n",
       "      <td>0</td>\n",
       "      <td>1</td>\n",
       "      <td>2</td>\n",
       "      <td>2</td>\n",
       "      <td>1</td>\n",
       "      <td>1</td>\n",
       "      <td>1</td>\n",
       "      <td>1</td>\n",
       "      <td>1</td>\n",
       "      <td>0</td>\n",
       "    </tr>\n",
       "    <tr>\n",
       "      <th>5</th>\n",
       "      <td>0</td>\n",
       "      <td>0</td>\n",
       "      <td>1</td>\n",
       "      <td>0</td>\n",
       "      <td>1</td>\n",
       "      <td>0</td>\n",
       "      <td>1</td>\n",
       "      <td>0</td>\n",
       "      <td>0</td>\n",
       "      <td>0</td>\n",
       "      <td>...</td>\n",
       "      <td>0</td>\n",
       "      <td>1</td>\n",
       "      <td>2</td>\n",
       "      <td>2</td>\n",
       "      <td>1</td>\n",
       "      <td>3</td>\n",
       "      <td>1</td>\n",
       "      <td>1</td>\n",
       "      <td>1</td>\n",
       "      <td>0</td>\n",
       "    </tr>\n",
       "  </tbody>\n",
       "</table>\n",
       "<p>5 rows × 32 columns</p>\n",
       "</div>"
      ],
      "text/plain": [
       "   SHOT_NUMBER_0  SHOT_NUMBER_1  SHOT_NUMBER_2  SHOT_NUMBER_3  SHOT_NUMBER_4  \\\n",
       "0              0              1              0              0              0   \n",
       "1              0              1              1              0              0   \n",
       "3              0              0              0              0              1   \n",
       "4              0              1              1              0              1   \n",
       "5              0              0              1              0              1   \n",
       "\n",
       "   SHOT_NUMBER_5  player_id_0  player_id_1  player_id_2  player_id_3   ...     \\\n",
       "0              0            1            0            0            0   ...      \n",
       "1              0            1            0            0            0   ...      \n",
       "3              1            1            0            0            0   ...      \n",
       "4              1            1            0            0            0   ...      \n",
       "5              0            1            0            0            0   ...      \n",
       "\n",
       "   CLOSEST_DEFENDER_PLAYER_ID_7  CLOSEST_DEFENDER_PLAYER_ID_8  PERIOD  \\\n",
       "0                             1                             0       1   \n",
       "1                             0                             0       1   \n",
       "3                             0                             1       2   \n",
       "4                             0                             1       2   \n",
       "5                             0                             1       2   \n",
       "\n",
       "   PTS_TYPE  SHOT_CLOCK_CAT  SHOT_DIST_CAT  DRIBBLES_CAT  TOUCH_TIME_CAT  \\\n",
       "0         2               1              2             1               0   \n",
       "1         3               0              5             1               0   \n",
       "3         2               1              3             1               0   \n",
       "4         2               1              1             1               1   \n",
       "5         2               1              3             1               1   \n",
       "\n",
       "   CLOSE_DEF_DIST_CAT  IS_HOME  \n",
       "0                   1        0  \n",
       "1                   2        0  \n",
       "3                   1        0  \n",
       "4                   1        0  \n",
       "5                   1        0  \n",
       "\n",
       "[5 rows x 32 columns]"
      ]
     },
     "execution_count": 29,
     "metadata": {},
     "output_type": "execute_result"
    }
   ],
   "source": [
    "features_X.head()"
   ]
  },
  {
   "cell_type": "code",
   "execution_count": 30,
   "metadata": {
    "collapsed": false
   },
   "outputs": [
    {
     "data": {
      "text/plain": [
       "0    1\n",
       "1    0\n",
       "3    0\n",
       "4    0\n",
       "5    0\n",
       "Name: FGM, dtype: int64"
      ]
     },
     "execution_count": 30,
     "metadata": {},
     "output_type": "execute_result"
    }
   ],
   "source": [
    "predict_Y.head()"
   ]
  },
  {
   "cell_type": "code",
   "execution_count": 31,
   "metadata": {
    "collapsed": false
   },
   "outputs": [
    {
     "name": "stdout",
     "output_type": "stream",
     "text": [
      "Benchmarking using Dummy Classifies, any model used should beat dummy\n",
      "Mean accuracy across 11 folds for Dummy model is  0.543844181224\n"
     ]
    }
   ],
   "source": [
    "print \"Benchmarking using Dummy Classifies, any model used should beat dummy\"\n",
    "dummy_class = DummyClassifier(strategy='most_frequent')\n",
    "dummy_cross_val_scores = cross_val_score(dummy_class, features_X, predict_Y, cv = 11)\n",
    "print \"Mean accuracy across 11 folds for Dummy model is \", np.mean(dummy_cross_val_scores)"
   ]
  },
  {
   "cell_type": "code",
   "execution_count": 39,
   "metadata": {
    "collapsed": false
   },
   "outputs": [
    {
     "name": "stdout",
     "output_type": "stream",
     "text": [
      "Mean Auc score across 11 folds for Logistic Model is  0.619335630621\n"
     ]
    }
   ],
   "source": [
    "log_class = LogisticRegression()\n",
    "log_cross_val_scores = cross_val_score(log_class, features_X, predict_Y, cv = 11, scoring = 'roc_auc')\n",
    "print \"Mean Auc score across 11 folds for Logistic Model is \", np.mean(log_cross_val_scores)"
   ]
  },
  {
   "cell_type": "code",
   "execution_count": 51,
   "metadata": {
    "collapsed": false
   },
   "outputs": [
    {
     "name": "stdout",
     "output_type": "stream",
     "text": [
      "Mean auc score across 11 folds for RandomForest Model is  0.617969835008\n"
     ]
    }
   ],
   "source": [
    "rf_class = RandomForestClassifier(n_estimators = 51, max_depth = 7)\n",
    "rf_cross_val_scroes = cross_val_score(rf_class, features_X, predict_Y, cv = 11, scoring='roc_auc')\n",
    "print \"Mean auc score across 11 folds for RandomForest Model is \", np.mean(rf_cross_val_scroes)"
   ]
  }
 ],
 "metadata": {
  "anaconda-cloud": {},
  "kernelspec": {
   "display_name": "Python [default]",
   "language": "python",
   "name": "python2"
  },
  "language_info": {
   "codemirror_mode": {
    "name": "ipython",
    "version": 2
   },
   "file_extension": ".py",
   "mimetype": "text/x-python",
   "name": "python",
   "nbconvert_exporter": "python",
   "pygments_lexer": "ipython2",
   "version": "2.7.12"
  }
 },
 "nbformat": 4,
 "nbformat_minor": 1
}
